{
 "cells": [
  {
   "cell_type": "markdown",
   "id": "f2a66892-d707-4d63-934f-673aff0b1d3c",
   "metadata": {},
   "source": [
    "##### 4-1. Guest List: If you could invite anyone, living or deceased, to dinner, who would you invite? Make a list that includes at least three people you’d like to invite to dinner. Then use your list to print a message to each person,inviting them to dinner."
   ]
  },
  {
   "cell_type": "markdown",
   "id": "d413baac-cac4-4ad1-99d1-e26c75c29276",
   "metadata": {},
   "source": [
    "# Ans 4-1"
   ]
  },
  {
   "cell_type": "code",
   "execution_count": 2,
   "id": "efd96f4c-d463-4ab2-bf84-e1df8c004c1b",
   "metadata": {},
   "outputs": [
    {
     "name": "stdout",
     "output_type": "stream",
     "text": [
      "Habib you are invited to dinner\n",
      "Ayesha you are invited to dinner\n",
      "Salman you are invited to dinner\n"
     ]
    }
   ],
   "source": [
    "invitation = [\"Habib\",\"Ayesha\",\"Salman\"]\n",
    "print (invitation[0],\"you are invited to dinner\")\n",
    "print (invitation[1],\"you are invited to dinner\")\n",
    "print (invitation[2],\"you are invited to dinner\")"
   ]
  },
  {
   "cell_type": "markdown",
   "id": "aba4b7ec-068f-46df-9345-6893a9fdf76f",
   "metadata": {},
   "source": [
    "##### 4-2. Changing Guest List: You just heard that one of your guests can’t make the dinner, so you need to send out a new set of invitations. You’ll have to think of someone else to invite. \n",
    "##### •     Start with your program from Exercise 4-1. Add a print statement at the end of your program stating the name of the guest who can’t make it.\n",
    "##### •     Modify your list, replacing the name of the guest who can’t make it with the name of the new person you are inviting. \n",
    "##### •     Print a second set of invitation messages, one for each person who is still in your list. "
   ]
  },
  {
   "cell_type": "markdown",
   "id": "837005dd-9cec-4b94-85f9-d60bc9770423",
   "metadata": {},
   "source": [
    "# Ans 4-2"
   ]
  },
  {
   "cell_type": "code",
   "execution_count": 4,
   "id": "a37933dd-0ef5-44ce-a9e7-ec86caa1b4d9",
   "metadata": {},
   "outputs": [
    {
     "name": "stdout",
     "output_type": "stream",
     "text": [
      "Habib you are invited to dinner\n",
      "Ayesha you are invited to dinner\n",
      "Salman you are invited to dinner\n",
      "\n",
      "\n",
      "Habib you are invited to dinner\n",
      "Saboor you are invited to dinner\n",
      "Salman you are invited to dinner\n",
      "\n",
      "Ayesha is unable to make it to the dinner\n"
     ]
    }
   ],
   "source": [
    "invitation = [\"Habib\",\"Ayesha\",\"Salman\"]\n",
    "print (invitation[0],\"you are invited to dinner\")\n",
    "print (invitation[1],\"you are invited to dinner\")\n",
    "print (invitation[2],\"you are invited to dinner\")\n",
    "print(\"\")\n",
    "new=invitation.copy()\n",
    "new[1]=\"Saboor\" \n",
    "print(\"\")\n",
    "print (new[0],\"you are invited to dinner\")\n",
    "print (new[1],\"you are invited to dinner\")\n",
    "print (new[2],\"you are invited to dinner\")\n",
    "print(\"\")\n",
    "print (invitation[1],\"is unable to make it to the dinner\")"
   ]
  },
  {
   "cell_type": "markdown",
   "id": "473521b5-d341-41e2-9e77-e47a989e5cda",
   "metadata": {},
   "source": [
    "##### 4-3. More Guests: You just found a bigger dinner table, so now more space is available. Think of three more guests to invite to dinner.\n",
    "##### •     Start with your program from Exercise 4-1 or Exercise 4-2. Add a print statement to the end of your program informing people that you found a bigger dinner table. \n",
    "##### •     Use insert() to add one new guest to the beginning of your list. \n",
    "##### •     Use insert() to add one new guest to the middle of your list. \n",
    "##### •     Use append() to add one new guest to the end of your list. \n",
    "##### •     Print a new set of invitation messages, one for each person in your list. "
   ]
  },
  {
   "cell_type": "markdown",
   "id": "ee061f60-59ca-427f-a7b3-917968dd3eef",
   "metadata": {},
   "source": [
    "# Ans 4-3"
   ]
  },
  {
   "cell_type": "code",
   "execution_count": 6,
   "id": "28e09c68-eb1b-45b1-8fe0-7e2b7f5e26a5",
   "metadata": {},
   "outputs": [
    {
     "name": "stdout",
     "output_type": "stream",
     "text": [
      "Habib you are invited to dinner\n",
      "Ayesha you are invited to dinner\n",
      "Salman you are invited to dinner\n",
      "\n",
      "\n",
      "Habib you are invited to dinner\n",
      "Saboor you are invited to dinner\n",
      "Salman you are invited to dinner\n",
      "\n",
      "Ayesha is unable to make it to the dinner\n",
      "\n",
      "kamran you are invited to dinner\n",
      "Habib you are invited to dinner\n",
      "Imran you are invited to dinner\n",
      "Saboor you are invited to dinner\n",
      "Salman you are invited to dinner\n",
      "Niaz you are invited to dinner\n",
      "\n",
      "Habib ,we found a bigger dinner table\n",
      "Saboor ,we found a bigger dinner table\n",
      "Salman ,we found a bigger dinner table\n"
     ]
    }
   ],
   "source": [
    "invitation = [\"Habib\",\"Ayesha\",\"Salman\"]\n",
    "print (invitation[0],\"you are invited to dinner\")\n",
    "print (invitation[1],\"you are invited to dinner\")\n",
    "print (invitation[2],\"you are invited to dinner\")\n",
    "print(\"\")\n",
    "new=invitation.copy()\n",
    "new[1]=\"Saboor\" \n",
    "print(\"\")\n",
    "print (new[0],\"you are invited to dinner\")\n",
    "print (new[1],\"you are invited to dinner\")\n",
    "print (new[2],\"you are invited to dinner\")\n",
    "print(\"\")\n",
    "print (invitation[1],\"is unable to make it to the dinner\")\n",
    "\n",
    "new1=new.copy()\n",
    "new1.insert(0,\"kamran\")\n",
    "new1.insert(2,\"Imran\")\n",
    "new1.append(\"Niaz\")\n",
    "print(\"\")\n",
    "print(new1[0],\"you are invited to dinner\")\n",
    "print(new1[1],\"you are invited to dinner\")\n",
    "print(new1[2],\"you are invited to dinner\")\n",
    "print(new1[3],\"you are invited to dinner\")\n",
    "print(new1[4],\"you are invited to dinner\")\n",
    "print(new1[5],\"you are invited to dinner\")\n",
    "    \n",
    "print(\"\")\n",
    "print (new[0],\",we found a bigger dinner table\")\n",
    "print (new[1],\",we found a bigger dinner table\")\n",
    "print (new[2],\",we found a bigger dinner table\")"
   ]
  },
  {
   "cell_type": "markdown",
   "id": "73f5d6e2-3ac2-4dcf-a58f-0c0e991d6d54",
   "metadata": {},
   "source": [
    "##### 4-4. Shrinking Guest List: You just found out that your new dinner table won’t arrive in time for the dinner, and you have space for only two guests. \n",
    "##### • Start with your program from Exercise 4-3. Add a new line that prints a message saying that you can invite only two people for dinner. \n",
    "##### • Use pop() to remove guests from your list one at a time until only two names remain in your list. Each time you pop a name from your list, print a message to that person letting them know you’re sorry you can’t invite them to dinner. \n",
    "#####  • Print a message to each of the two people still on your list, letting them know they’re still invited. \n",
    "#####  • Use del to remove the last two names from your list, so you have an empty list. Print your list to make sure you actually have an empty list at the end of your program"
   ]
  },
  {
   "cell_type": "markdown",
   "id": "fb67fb00-d8a0-45ac-8bbf-136144631da9",
   "metadata": {},
   "source": [
    "# Ans 4-4"
   ]
  },
  {
   "cell_type": "code",
   "execution_count": 7,
   "id": "add9dd6b-8fec-4c3e-8dc4-96c9c9384e9a",
   "metadata": {},
   "outputs": [
    {
     "name": "stdout",
     "output_type": "stream",
     "text": [
      "Habib you are invited to dinner\n",
      "Ayesha you are invited to dinner\n",
      "Salman you are invited to dinner\n",
      "\n",
      "\n",
      "Habib you are invited to dinner\n",
      "Saboor you are invited to dinner\n",
      "Salman you are invited to dinner\n",
      "\n",
      "Ayesha is unable to make it to the dinner\n",
      "\n",
      "kamran you are invited to dinner\n",
      "Habib you are invited to dinner\n",
      "Imran you are invited to dinner\n",
      "Saboor you are invited to dinner\n",
      "Salman you are invited to dinner\n",
      "Niaz you are invited to dinner\n",
      "\n",
      "Habib ,we found a bigger dinner table\n",
      "Saboor ,we found a bigger dinner table\n",
      "Salman ,we found a bigger dinner table\n",
      "\n",
      "We can invite only two people for dinner\n",
      "\n",
      "Niaz ,sorry i can't invite you to dinner.\n",
      "Salman ,sorry i can't invite you to dinner.\n",
      "Saboor ,sorry i can't invite you to dinner.\n",
      "Imran ,sorry i can't invite you to dinner.\n",
      "\n",
      "kamran ,you are still invited.\n",
      "Habib ,you are still invited.\n",
      "[]\n"
     ]
    }
   ],
   "source": [
    "# 4-1\n",
    "\n",
    "invitation = [\"Habib\",\"Ayesha\",\"Salman\"]\n",
    "print (invitation[0],\"you are invited to dinner\")\n",
    "print (invitation[1],\"you are invited to dinner\")\n",
    "print (invitation[2],\"you are invited to dinner\")\n",
    "print(\"\")\n",
    "\n",
    "# 4-2\n",
    "new=invitation.copy()\n",
    "new[1]=\"Saboor\" \n",
    "print(\"\")\n",
    "print (new[0],\"you are invited to dinner\")\n",
    "print (new[1],\"you are invited to dinner\")\n",
    "print (new[2],\"you are invited to dinner\")\n",
    "print(\"\")\n",
    "print (invitation[1],\"is unable to make it to the dinner\")\n",
    "\n",
    "# 4-3\n",
    "\n",
    "new1=new.copy()\n",
    "new1.insert(0,\"kamran\")\n",
    "new1.insert(2,\"Imran\")\n",
    "new1.append(\"Niaz\")\n",
    "print(\"\")\n",
    "print(new1[0],\"you are invited to dinner\")\n",
    "print(new1[1],\"you are invited to dinner\")\n",
    "print(new1[2],\"you are invited to dinner\")\n",
    "print(new1[3],\"you are invited to dinner\")\n",
    "print(new1[4],\"you are invited to dinner\")\n",
    "print(new1[5],\"you are invited to dinner\")\n",
    "    \n",
    "print(\"\")\n",
    "print (new[0],\",we found a bigger dinner table\")\n",
    "print (new[1],\",we found a bigger dinner table\")\n",
    "print (new[2],\",we found a bigger dinner table\")\n",
    "print(\"\")\n",
    "\n",
    "# 4-4\n",
    "\n",
    "print(\"We can invite only two people for dinner\")\n",
    "print(\"\")\n",
    "print(new1.pop(),\",sorry i can't invite you to dinner.\")\n",
    "print(new1.pop(),\",sorry i can't invite you to dinner.\")\n",
    "print(new1.pop(),\",sorry i can't invite you to dinner.\")\n",
    "print(new1.pop(),\",sorry i can't invite you to dinner.\")\n",
    "print(\"\")\n",
    "print(new1[0],\",you are still invited.\")\n",
    "print(new1[1],\",you are still invited.\")\n",
    "del new1[1]\n",
    "del new1[0]\n",
    "print(new1)"
   ]
  },
  {
   "cell_type": "markdown",
   "id": "232a1ee0-4ab2-4fc2-b131-6551fadfe2e5",
   "metadata": {},
   "source": [
    "##### 4-5. Make an another list you wish and perform indexing and slicing operations on it."
   ]
  },
  {
   "cell_type": "markdown",
   "id": "253953a0-ee5d-4daa-920a-4761df0c8fef",
   "metadata": {},
   "source": [
    "# Ans 4-5"
   ]
  },
  {
   "cell_type": "code",
   "execution_count": 8,
   "id": "35732058-9481-4679-811e-eb4e947a26d9",
   "metadata": {},
   "outputs": [
    {
     "name": "stdout",
     "output_type": "stream",
     "text": [
      "1) 25k\n",
      "2) 75k\n",
      "3) 25k\n",
      "4) ['45k']\n",
      "5) ['45k', '25k', '55k']\n",
      "6) ['25k', '35k', '45k', '25k', '55k']\n",
      "7) ['25k', '25k', '75k']\n",
      "8) ['75k', '35k', '55k', '25k', '45k', '35k', '25k']\n",
      "9) 1\n",
      "10) ['55k', '35k', '75k']\n",
      "11) ['25k', '75k']\n"
     ]
    }
   ],
   "source": [
    " list = [\"25k\",\"35k\",\"45k\",\"25k\",\"55k\",\"35k\",\"75k\"]\n",
    "print(\"1)\",list[0])    \n",
    "print(\"2)\",list[6])    \n",
    "print(\"3)\",list[-7])   \n",
    "print(\"4)\",list[2:3])  \n",
    "print(\"5)\",list[2:5])  \n",
    "print(\"6)\",list[:-2])  \n",
    "print(\"7)\",list[::3]) \n",
    "print(\"8)\",list[::-1]) \n",
    "print(\"9)\",list.index(\"35k\"))\n",
    "print(\"10)\",list[4:]),\n",
    "print(\"11)\",list[::6])"
   ]
  },
  {
   "cell_type": "markdown",
   "id": "da3e56a0-a9f8-4304-ab61-79c17d0e4d67",
   "metadata": {},
   "source": [
    "# Assignment NO.2 (Mark Sheet)"
   ]
  },
  {
   "cell_type": "code",
   "execution_count": 2,
   "id": "74bb7e45-8b68-4fd4-9297-f54529298785",
   "metadata": {},
   "outputs": [
    {
     "name": "stdin",
     "output_type": "stream",
     "text": [
      "Enter English Marks:  65\n",
      "Enter Maths Marks:  60\n",
      "Enter Computer Marks:  49\n",
      "Enter Chemistry Marks:  75\n",
      "Enter Urdu Marks:  80\n"
     ]
    },
    {
     "name": "stdout",
     "output_type": "stream",
     "text": [
      "Your obtained 329.0 out of 500\n",
      "You Score  'A' grade\n"
     ]
    }
   ],
   "source": [
    "sub_1 = float(input(\"Enter English Marks: \"))\n",
    "sub_2  = float(input(\"Enter Maths Marks: \"))\n",
    "sub_3 = float(input(\"Enter Computer Marks: \"))\n",
    "sub_4 = float(input(\"Enter Chemistry Marks: \"))\n",
    "sub_5 = float(input(\"Enter Urdu Marks: \"))\n",
    "    \n",
    "total= sub_1 + sub_2 + sub_3 + sub_4 + sub_5\n",
    "print(\"You obtained\",total,\"out of 500\")\n",
    "if total < 50 :\n",
    "     print(\"You Score  'C' grade\")\n",
    "elif total < 70:\n",
    "    print(\"You Score  'B' grade\")\n",
    "else:\n",
    "  print(\"You Score  'A' grade\")\n"
   ]
  },
  {
   "cell_type": "code",
   "execution_count": null,
   "id": "acbfc55d-c82f-4b21-a169-66ea0880822e",
   "metadata": {},
   "outputs": [],
   "source": []
  }
 ],
 "metadata": {
  "kernelspec": {
   "display_name": "Python 3 (ipykernel)",
   "language": "python",
   "name": "python3"
  },
  "language_info": {
   "codemirror_mode": {
    "name": "ipython",
    "version": 3
   },
   "file_extension": ".py",
   "mimetype": "text/x-python",
   "name": "python",
   "nbconvert_exporter": "python",
   "pygments_lexer": "ipython3",
   "version": "3.12.4"
  }
 },
 "nbformat": 4,
 "nbformat_minor": 5
}
