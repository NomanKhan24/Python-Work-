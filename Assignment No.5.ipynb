{
 "cells": [
  {
   "cell_type": "markdown",
   "id": "ace88fff-f59b-43cc-86cd-87ae5e174145",
   "metadata": {},
   "source": [
    "### Ans 1"
   ]
  },
  {
   "cell_type": "code",
   "execution_count": 7,
   "id": "1ec5a145-9800-466b-a034-8cf913309a62",
   "metadata": {},
   "outputs": [
    {
     "name": "stdout",
     "output_type": "stream",
     "text": [
      "\n",
      " (1201, 'Furqan', 'Finance') \n",
      " (1202, 'Hira', 'Marketing') \n",
      " (1203, 'Salman', 'Human resource')\n"
     ]
    }
   ],
   "source": [
    "employee_1 =  (1201,\"Furqan\",\"Finance\")\n",
    "employee_2 =  (1202,\"Hira\",\"Marketing\")\n",
    "employee_3 =  (1203,\"Salman\",\"Human resource\")\n",
    "\n",
    "print(\"\\n\",employee_1,\"\\n\",employee_2,\"\\n\",employee_3)"
   ]
  },
  {
   "cell_type": "markdown",
   "id": "51c1ba89-9b93-4820-a3d0-1845106450b8",
   "metadata": {},
   "source": [
    "### Ans 2"
   ]
  },
  {
   "cell_type": "code",
   "execution_count": 11,
   "id": "8510f99b-23e9-44a2-8c4c-d1a0f210c15a",
   "metadata": {},
   "outputs": [
    {
     "name": "stdout",
     "output_type": "stream",
     "text": [
      "\n",
      " (1001, 'Pencil Box', 42) \n",
      " (1002, 'Geography Books', 15) \n",
      " (1003, 'Computer Paper', 100)\n"
     ]
    }
   ],
   "source": [
    "inventory_1 =  (1001,\"Pencil Box\",42)\n",
    "inventory_2 =  (1002,\"Geography Books\",15)\n",
    "inventory_3 =  (1003,\"Computer Paper\",100)\n",
    "\n",
    "print(\"\\n\",inventory_1,\"\\n\",inventory_2,\"\\n\",inventory_3)"
   ]
  },
  {
   "cell_type": "markdown",
   "id": "7064b00a-9bc8-4cae-ac15-33357c7f95f5",
   "metadata": {},
   "source": [
    "### Ans 3"
   ]
  },
  {
   "cell_type": "code",
   "execution_count": 17,
   "id": "a0d8f32e-1630-420a-a109-0971f06f6d1d",
   "metadata": {},
   "outputs": [
    {
     "name": "stdout",
     "output_type": "stream",
     "text": [
      "1st appointment: ('12-Aug-2024', '02:00 Pm')\n",
      "1st meeting: ('18-Sep-2024', '04:00 Pm')\n",
      "2nd appointment: ('17-Sep-2024', '03:00 Pm')\n",
      "2nd meeting: ('15-Aug-2024', '05:00 Pm')\n"
     ]
    }
   ],
   "source": [
    "appointment_1 =  (\"12-Aug-2024\",\"02:00 Pm\")\n",
    "meeting_1 =  (\"18-Sep-2024\",\"04:00 Pm\")\n",
    "appointment_2 =  (\"17-Sep-2024\",\"03:00 Pm\")\n",
    "meeting_2 = (\"15-Aug-2024\",\"05:00 Pm\")\n",
    "\n",
    "print(f'1st appointment: {appointment_1}')\n",
    "print(f'1st meeting: {meeting_1}')\n",
    "print(f'2nd appointment: {appointment_2}')\n",
    "print(f'2nd meeting: {meeting_2}')\n",
    "     "
   ]
  },
  {
   "cell_type": "markdown",
   "id": "fef2228b-e37f-4434-aa73-c7b54c566503",
   "metadata": {},
   "source": [
    "### Ans 4"
   ]
  },
  {
   "cell_type": "code",
   "execution_count": 21,
   "id": "b5ce1213-aa89-4ae7-9e83-6574ceb546ba",
   "metadata": {},
   "outputs": [
    {
     "data": {
      "text/plain": [
       "{'1013': {'name': 'Rizwan', 'Department': 'Store Management'},\n",
       " '1014': {'name': 'Misbah', 'Departmnet': 'Customer Service Represenative'},\n",
       " '1015': {'name': 'Kamran', 'Departmnet': 'Customer Service Represenative'}}"
      ]
     },
     "execution_count": 21,
     "metadata": {},
     "output_type": "execute_result"
    }
   ],
   "source": [
    "employee = {\n",
    "       '1013' : { 'name': 'Rizwan', 'Department': 'Store Management'},\n",
    "       '1014' : {'name': 'Misbah',  'Departmnet': 'Customer Service Represenative'},\n",
    "       '1015' : {'name': 'Kamran',  'Departmnet': 'Mechanical Work'}\n",
    "\n",
    "    \n",
    "}\n",
    "employee"
   ]
  },
  {
   "cell_type": "markdown",
   "id": "0a6795fc-e363-4578-b185-38590436faf5",
   "metadata": {},
   "source": [
    "### Ans 5"
   ]
  },
  {
   "cell_type": "code",
   "execution_count": 24,
   "id": "3c136167-3851-478f-a70f-f54d542e304f",
   "metadata": {},
   "outputs": [
    {
     "data": {
      "text/plain": [
       "{'name': 'Aiman', 'English': 72, 'Maths': 85, 'Science': 65}"
      ]
     },
     "execution_count": 24,
     "metadata": {},
     "output_type": "execute_result"
    }
   ],
   "source": [
    "  students = [\n",
    "      {\n",
    "      'name' : 'Hamza',\n",
    "      'English' : 32,\n",
    "      'Maths': 55,\n",
    "      'Science': 85\n",
    "          \n",
    "      },\n",
    "    {\n",
    "     'name' : 'Aiman',\n",
    "      'English' : 72,\n",
    "      'Maths': 85,\n",
    "      'Science': 65\n",
    "    },\n",
    "   {\n",
    "     'name' : 'Kashif',\n",
    "      'English' : 55,\n",
    "      'Maths': 88,\n",
    "      'Science': 92\n",
    "    },   \n",
    "    \n",
    "]\n",
    "\n",
    "students[1]"
   ]
  },
  {
   "cell_type": "markdown",
   "id": "99330c01-638b-4fc0-87aa-c0dfa70a9bca",
   "metadata": {},
   "source": [
    "### Ans 6"
   ]
  },
  {
   "cell_type": "code",
   "execution_count": 32,
   "id": "8a576b16-983c-46a9-8964-54cd69727d56",
   "metadata": {},
   "outputs": [
    {
     "data": {
      "text/plain": [
       "['Design User Interface', 'Create Pages', 'Store user data']"
      ]
     },
     "execution_count": 32,
     "metadata": {},
     "output_type": "execute_result"
    }
   ],
   "source": [
    "projects = {\n",
    "     'Web App Development': ['Design User Interface','Create Pages','Store user data'],\n",
    "     'Mobile App Development': ['Planing','Design','Development','Deploymnet & Maintainance'],\n",
    "     'Game App Development': ['Planning','Production','Testing']\n",
    "    \n",
    "}\n",
    "\n",
    "projects['Web App Development']"
   ]
  },
  {
   "cell_type": "markdown",
   "id": "2abcee45-498b-4d24-975a-6f094379da55",
   "metadata": {},
   "source": [
    "### Ans 7"
   ]
  },
  {
   "cell_type": "code",
   "execution_count": null,
   "id": "7d2fbd45-1fe8-4cf6-b9a1-2d50ea5641c6",
   "metadata": {},
   "outputs": [],
   "source": []
  }
 ],
 "metadata": {
  "kernelspec": {
   "display_name": "Python 3 (ipykernel)",
   "language": "python",
   "name": "python3"
  },
  "language_info": {
   "codemirror_mode": {
    "name": "ipython",
    "version": 3
   },
   "file_extension": ".py",
   "mimetype": "text/x-python",
   "name": "python",
   "nbconvert_exporter": "python",
   "pygments_lexer": "ipython3",
   "version": "3.12.4"
  }
 },
 "nbformat": 4,
 "nbformat_minor": 5
}
