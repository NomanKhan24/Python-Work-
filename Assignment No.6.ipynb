{
 "cells": [
  {
   "cell_type": "markdown",
   "id": "2bf7eabb-0c22-43fe-ad34-d9a56d5654e9",
   "metadata": {},
   "source": [
    "### A-1"
   ]
  },
  {
   "cell_type": "code",
   "execution_count": 1,
   "id": "f1fb7a59-fd55-4c7b-9a81-930a904e39c2",
   "metadata": {},
   "outputs": [
    {
     "name": "stdin",
     "output_type": "stream",
     "text": [
      "Enter maximum no. for vertical length of a rectangle pattern :   6\n"
     ]
    },
    {
     "name": "stdout",
     "output_type": "stream",
     "text": [
      "\n",
      "* \n",
      "* * \n",
      "* * * \n",
      "* * * * \n",
      "* * * * * \n",
      "* * * * \n",
      "* * * \n",
      "* * \n",
      "* \n"
     ]
    }
   ],
   "source": [
    "user_input = int(input('Enter maximum no. for vertical length of a rectangle pattern :  '))\n",
    "for i in range(user_input):        # Print '*' in vertical direction\n",
    "  for j in range(i):               # Print '*' in horizontal direction\n",
    "    s='*'\n",
    "    print(s,end=\" \")      \n",
    "  print(end='\\n')\n",
    "m=i-1    \n",
    "for k in range(m):       # Print '*' in vertical direction\n",
    "  for l in range(m):     # Print '*' in horizontal direction\n",
    "    print(s,end=\" \") \n",
    "  print(end='\\n') \n",
    "  m=m-1"
   ]
  },
  {
   "cell_type": "markdown",
   "id": "fd18b3d0-407a-4108-86a4-93be29938424",
   "metadata": {},
   "source": [
    "### A-2"
   ]
  },
  {
   "cell_type": "code",
   "execution_count": null,
   "id": "dbfb43b0-3e0d-4998-a4e1-1c7abbd13896",
   "metadata": {},
   "outputs": [],
   "source": [
    "#and 'e' or 'E' and 'i' or 'I' and 'o' or 'O' and 'u' or 'U':\n",
    "user_input= (input(\"Enter the alphabet of your choice \"))\n",
    "if user_input == 'a' or user_input == 'e' or user_input == 'i' or user_input == 'o' or user_input == 'u' 'A' or user_input == 'E' or user_input == 'I' or user_input == 'O' or user_input == 'U'    :\n",
    "  print(user_input,'is a vowel')\n",
    "else:\n",
    "  print(user_input,'is a consonant')"
   ]
  },
  {
   "cell_type": "markdown",
   "id": "04e718f3-1373-4f24-accc-17d94a2ff29c",
   "metadata": {},
   "source": [
    "### A-3"
   ]
  },
  {
   "cell_type": "code",
   "execution_count": 1,
   "id": "aaa99a3e-95e4-45b3-b049-ccdd9d5a48e0",
   "metadata": {},
   "outputs": [
    {
     "name": "stdin",
     "output_type": "stream",
     "text": [
      "Enter no. for multiplication table:  4\n"
     ]
    },
    {
     "name": "stdout",
     "output_type": "stream",
     "text": [
      "4 x 1 = 4\n",
      "4 x 2 = 8\n",
      "4 x 3 = 12\n",
      "4 x 4 = 16\n",
      "4 x 5 = 20\n",
      "4 x 6 = 24\n",
      "4 x 7 = 28\n",
      "4 x 8 = 32\n",
      "4 x 9 = 36\n",
      "4 x 10 = 40\n"
     ]
    }
   ],
   "source": [
    "user_input = int(input(\"Enter no. for multiplication table: \"))\n",
    "for i in range(1,11):\n",
    " print(user_input,'x',i,'=',user_input*i)"
   ]
  },
  {
   "cell_type": "markdown",
   "id": "a9be848d-5923-42b1-b77a-01e5fb98b2f0",
   "metadata": {},
   "source": [
    "### A-4"
   ]
  },
  {
   "cell_type": "code",
   "execution_count": 17,
   "id": "5afbb3dd-0847-4630-b7f2-1cc55e0da6ab",
   "metadata": {},
   "outputs": [
    {
     "name": "stdin",
     "output_type": "stream",
     "text": [
      "Guess a No. between 1-9:  6\n"
     ]
    },
    {
     "name": "stdout",
     "output_type": "stream",
     "text": [
      "Sorry ! Try again\n"
     ]
    },
    {
     "name": "stdin",
     "output_type": "stream",
     "text": [
      "Guess a No. between 1-9:  4\n"
     ]
    },
    {
     "name": "stdout",
     "output_type": "stream",
     "text": [
      "Congratulation ! Your have guessed the right number.\n"
     ]
    }
   ],
   "source": [
    "user_input = int\n",
    "while user_input != 4:\n",
    "    guess = int(input('Guess a No. between 1-9: '))\n",
    "    if guess == 4:\n",
    "        print('Congratulation ! Your have guessed the right number.')\n",
    "        user_input = guess\n",
    "    else:\n",
    "       print('Sorry ! Try again')"
   ]
  },
  {
   "cell_type": "markdown",
   "id": "d6e91138-3ff2-4681-b0f8-7d401f326745",
   "metadata": {},
   "source": [
    "### A-5"
   ]
  },
  {
   "cell_type": "code",
   "execution_count": 25,
   "id": "dd29239f-2f85-47c3-b423-9ae18428af50",
   "metadata": {},
   "outputs": [
    {
     "name": "stdout",
     "output_type": "stream",
     "text": [
      "Cierra Vega (6.2, 71)\n"
     ]
    }
   ],
   "source": [
    "original_dictionary = {\n",
    "          'Cierra Vega': (6.2, 71), \n",
    "         'Alden Cantrell': (5.9, 65), \n",
    "         'Kierra Gentry': (6.0, 68), \n",
    "         'Pierre Cox': (5.8, 66)\n",
    "}\n",
    "\n",
    "for key,value in original_dictionary.items():\n",
    "    if original_dictionary[key][0] > 6 and original_dictionary[key][1] > 70:\n",
    "        print(key,value)\n"
   ]
  },
  {
   "cell_type": "markdown",
   "id": "09d309e2-5d45-4856-82f1-c0aa17c61b3d",
   "metadata": {},
   "source": [
    "### A-6"
   ]
  },
  {
   "cell_type": "code",
   "execution_count": 51,
   "id": "ab98bfc3-1d23-49d1-a610-a5555307f9dc",
   "metadata": {},
   "outputs": [
    {
     "name": "stdout",
     "output_type": "stream",
     "text": [
      "{'C1': [], 'C2': [], 'C3': []}\n"
     ]
    }
   ],
   "source": [
    "original_dictionary={\n",
    "    'C1': [10, 20, 30], \n",
    "    'C2': [20, 30, 40], \n",
    "    'C3': [12, 34]}\n",
    "\n",
    "for key in original_dictionary:\n",
    "    original_dictionary[key].clear()\n",
    "print(original_dictionary)"
   ]
  },
  {
   "cell_type": "markdown",
   "id": "12521f95-dc66-4708-98da-1fc89371e788",
   "metadata": {},
   "source": [
    "### A-7"
   ]
  },
  {
   "cell_type": "code",
   "execution_count": 67,
   "id": "708d92d4-afdb-4dd1-8bee-d343f8e6f1b4",
   "metadata": {},
   "outputs": [
    {
     "name": "stdout",
     "output_type": "stream",
     "text": [
      "Nile river runs through Egypt\n",
      "Indus river runs through India,Pakistan and China\n",
      "Mississippi River river runs through United States Of America\n",
      "\n",
      "\n",
      "Nile\n",
      "Indus\n",
      "Mississippi River\n",
      "\n",
      "\n",
      "Egypt\n",
      "India,Pakistan and China\n",
      "United States Of America\n"
     ]
    }
   ],
   "source": [
    "river_data={\n",
    "    'Nile':'Egypt',\n",
    "    'Indus':'India,Pakistan and China',\n",
    "    'Mississippi River':'United States Of America'\n",
    "}\n",
    "for key,value in river_data.items():\n",
    "    print(key, 'river runs through',value)\n",
    "print('\\n')\n",
    "for key in river_data.keys():\n",
    "    print(key)\n",
    "print('\\n')\n",
    "for value in river_data.values():\n",
    "    print(value)"
   ]
  },
  {
   "cell_type": "markdown",
   "id": "7f5f6b01-c36a-4dfb-abd0-f4587faa5542",
   "metadata": {},
   "source": [
    "### A-8"
   ]
  },
  {
   "cell_type": "code",
   "execution_count": 16,
   "id": "b449886d-1f3a-4573-aa28-be3bfe178318",
   "metadata": {},
   "outputs": [
    {
     "name": "stdin",
     "output_type": "stream",
     "text": [
      "Enter your age OR Press '0' to quit :  3\n"
     ]
    },
    {
     "name": "stdout",
     "output_type": "stream",
     "text": [
      "Your ticket is free\n"
     ]
    },
    {
     "name": "stdin",
     "output_type": "stream",
     "text": [
      "Enter your age OR Press '0' to quit :  4\n"
     ]
    },
    {
     "name": "stdout",
     "output_type": "stream",
     "text": [
      "Your ticket charges are 10$\n"
     ]
    },
    {
     "name": "stdin",
     "output_type": "stream",
     "text": [
      "Enter your age OR Press '0' to quit :  99\n"
     ]
    },
    {
     "name": "stdout",
     "output_type": "stream",
     "text": [
      "Your ticket charges are 15$\n"
     ]
    },
    {
     "name": "stdin",
     "output_type": "stream",
     "text": [
      "Enter your age OR Press '0' to quit :  0\n"
     ]
    },
    {
     "name": "stdout",
     "output_type": "stream",
     "text": [
      "Thank you\n"
     ]
    }
   ],
   "source": [
    "user_input = int\n",
    "\n",
    "while user_input != 0:\n",
    "       age=int(input(\"Enter your age OR Press '0' to quit : \"))\n",
    "       if age<=3 and age >0:\n",
    "           print(\"Your ticket is free\")\n",
    "       if age>3 and age<12:\n",
    "           print(\"Your ticket charges are 10$\")\n",
    "       if age>12:\n",
    "           print(\"Your ticket charges are 15$\")\n",
    "       #print(age)\n",
    "       user_input = age \n",
    "else:\n",
    "  print('Thank you')\n"
   ]
  },
  {
   "cell_type": "code",
   "execution_count": null,
   "id": "b26a5bbb-0618-4040-a9ef-3192eedc91ca",
   "metadata": {},
   "outputs": [],
   "source": []
  }
 ],
 "metadata": {
  "kernelspec": {
   "display_name": "Python 3 (ipykernel)",
   "language": "python",
   "name": "python3"
  },
  "language_info": {
   "codemirror_mode": {
    "name": "ipython",
    "version": 3
   },
   "file_extension": ".py",
   "mimetype": "text/x-python",
   "name": "python",
   "nbconvert_exporter": "python",
   "pygments_lexer": "ipython3",
   "version": "3.12.4"
  }
 },
 "nbformat": 4,
 "nbformat_minor": 5
}
